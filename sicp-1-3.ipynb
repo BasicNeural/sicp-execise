{
 "cells": [
  {
   "cell_type": "markdown",
   "id": "sixth-athens",
   "metadata": {},
   "source": [
    "## 1.29"
   ]
  },
  {
   "cell_type": "code",
   "execution_count": 12,
   "id": "accurate-producer",
   "metadata": {},
   "outputs": [
    {
     "name": "stdout",
     "output_type": "stream",
     "text": [
      "0.24998750000000042\n",
      "1/4\n",
      "1/4"
     ]
    }
   ],
   "source": [
    "(require sicp)\n",
    "\n",
    "(define (sum term a next b)\n",
    "  (if (> a b)\n",
    "      0\n",
    "      (+ (term a)\n",
    "         (sum term (next a) next b))))\n",
    "\n",
    "(define (integral f a b dx)\n",
    "  (define (add-dx x) (+ x dx))\n",
    "  (* (sum f (+ a (/ dx 2.0)) add-dx b) \n",
    "     dx))\n",
    "\n",
    "(define (simpson-integral f a b n)\n",
    "  (let ((h (/ (- b a) n)))\n",
    "    (define (y k)\n",
    "      (if (even? k)\n",
    "          (* 2 (f (+ a (* k h))))\n",
    "          (* 4 (f (+ a (* k h))))))\n",
    "  \n",
    "    (/ (* h (+ (f a) (sum y 1 inc (- n 1)) (f b))) 3)))\n",
    "  \n",
    "\n",
    "(display (integral (lambda (x) (* x x x)) 0 1 0.01))\n",
    "(newline)\n",
    "(display (simpson-integral (lambda (x) (* x x x)) 0 1 100))\n",
    "(newline)\n",
    "(display (simpson-integral (lambda (x) (* x x x)) 0 1 1000))"
   ]
  },
  {
   "cell_type": "markdown",
   "id": "infinite-scroll",
   "metadata": {},
   "source": [
    "## 1.30"
   ]
  },
  {
   "cell_type": "code",
   "execution_count": 4,
   "id": "liked-disaster",
   "metadata": {},
   "outputs": [
    {
     "name": "stdout",
     "output_type": "stream",
     "text": [
      "338350\n",
      "338350"
     ]
    }
   ],
   "source": [
    "(define (sum term a next b)\n",
    "  (if (> a b)\n",
    "      0\n",
    "      (+ (term a)\n",
    "         (sum term (next a) next b))))\n",
    "\n",
    "(define (sum-iter term a next b)\n",
    "  (define (iter a result)\n",
    "    (if (> a b)\n",
    "        result\n",
    "        (iter (next a) (+ (term a) result))))\n",
    "  (iter a 0))\n",
    "\n",
    "(define (f x) (* x x))\n",
    "(define (step x) (+ x 1))\n",
    "\n",
    "(display (sum f 0 step 100))\n",
    "(newline)\n",
    "(display (sum-iter f 0 step 100))"
   ]
  },
  {
   "cell_type": "markdown",
   "id": "empty-retail",
   "metadata": {},
   "source": [
    "## 1.31"
   ]
  },
  {
   "cell_type": "code",
   "execution_count": 19,
   "id": "perfect-pizza",
   "metadata": {},
   "outputs": [
    {
     "name": "stdout",
     "output_type": "stream",
     "text": [
      "36288004096/1225\n",
      "65536/19845\n",
      "12554203470773361527671578846415332832204710888928069025792/3976196642270213166129077625536317571745358255780862316225\n",
      "10086913586276986678343434265636765134100413253239154346994763111486904773503285916522052161250538404046496765518544896/3202747463447871371318198610752935689601949314244079985592074917873601202358825749615833814678666100814997029241930625"
     ]
    }
   ],
   "source": [
    "(require sicp)\n",
    "\n",
    "(define (product-rec term a next b)\n",
    "  (if (> a b)\n",
    "      1\n",
    "      (* (term a)\n",
    "         (product-rec term (next a) next b))))\n",
    "\n",
    "(define (product term a next b)\n",
    "  (define (iter a result)\n",
    "    (if (> a b)\n",
    "        result\n",
    "        (iter (next a) (* (term a) result))))\n",
    "  (iter a 1))\n",
    "\n",
    "(define (f x) x)\n",
    "\n",
    "(display (product f 1 inc 10))\n",
    "\n",
    "(define (square x) (* x x))\n",
    "\n",
    "(define (step x) (+ x 2))\n",
    "\n",
    "(define (pi n)\n",
    "  (if (even? n)\n",
    "      (* 8 (/ (product square 4 step n) (product square 3 step n) n))\n",
    "      (* 8 (/ (product square 4 step n) (product square 3 step (- n 1)) (- n 1)))))\n",
    "\n",
    "(display (pi 8))\n",
    "(newline)\n",
    "(display (pi 10))\n",
    "(newline)\n",
    "(display (pi 100))\n",
    "(newline)\n",
    "(display (pi 200))"
   ]
  },
  {
   "cell_type": "markdown",
   "id": "fabulous-point",
   "metadata": {},
   "source": [
    "## 1.32"
   ]
  },
  {
   "cell_type": "code",
   "execution_count": 25,
   "id": "integral-worthy",
   "metadata": {},
   "outputs": [
    {
     "name": "stdout",
     "output_type": "stream",
     "text": [
      "55\n",
      "3628800"
     ]
    }
   ],
   "source": [
    "(define (accumulate combiner null-value term a next b)\n",
    "  (define (iter a result)\n",
    "    (if (> a b)\n",
    "        result\n",
    "        (iter (next a) (combiner (term a) result))))\n",
    "  (iter a null-value))\n",
    "\n",
    "(define (sum term a next b) \n",
    "  (accumulate + 0 term a next b))\n",
    "\n",
    "(define (product term a next b) \n",
    "  (accumulate * 1 term a next b))\n",
    "\n",
    "(define (id x) x)\n",
    "\n",
    "(display (sum id 1 inc 10))\n",
    "(newline)\n",
    "(display (product id 1 inc 10))"
   ]
  },
  {
   "cell_type": "markdown",
   "id": "motivated-operator",
   "metadata": {},
   "source": [
    "## 1.33"
   ]
  },
  {
   "cell_type": "code",
   "execution_count": 31,
   "id": "robust-pickup",
   "metadata": {},
   "outputs": [
    {
     "name": "stdout",
     "output_type": "stream",
     "text": [
      "189\n",
      "189"
     ]
    }
   ],
   "source": [
    "(define (filtered-accumulate predicate combiner null-value term a next b)\n",
    "  (define (iter a result)\n",
    "    (if (> a b)\n",
    "        result\n",
    "        (if (predicate (term a))\n",
    "            (iter (next a) (combiner (term a) result))\n",
    "            (iter (next a) result))))\n",
    "  (iter a null-value))\n",
    "  \n",
    "(define (gcd a b)\n",
    "  (if (= b 0)\n",
    "      a\n",
    "      (gcd b (remainder a b))))\n",
    "\n",
    "(define (id x) x)\n",
    "\n",
    "(define (foo n)\n",
    "  (define (is-coprime i) (= (gcd i n) 1))\n",
    "  (filtered-accumulate is-coprime * 1 id 1 inc n))\n",
    "\n",
    "(display (foo 10))\n",
    "(newline)\n",
    "(display (* 1 3 7 9))"
   ]
  },
  {
   "cell_type": "markdown",
   "id": "isolated-pastor",
   "metadata": {},
   "source": [
    "## 1.34\n",
    "\n",
    "`(f f)`는 `(f 2)`와 같고 `f`는 함수를 인자로 받기 때문에 실행 할 수 없다."
   ]
  },
  {
   "cell_type": "markdown",
   "id": "noted-restoration",
   "metadata": {},
   "source": [
    "## 1.35"
   ]
  },
  {
   "cell_type": "markdown",
   "id": "rocky-fault",
   "metadata": {},
   "source": [
    "$$\n",
    "x = 1 + \\frac{1}{x} \\\\\n",
    "1 + \\frac{1}{x} - x = 0 \\\\\n",
    "\\frac{1 + x - x^2}{x} = 0 \\\\\n",
    "-x^2 + x + 1 = 0 \\\\\n",
    "\\frac{-1 - \\sqrt{1 + 4}}{-2} = \\frac{1 + \\sqrt{5}}{2}\n",
    "$$"
   ]
  },
  {
   "cell_type": "code",
   "execution_count": 42,
   "id": "neutral-technician",
   "metadata": {},
   "outputs": [
    {
     "data": {
      "text/html": [
       "<code>#t</code>"
      ],
      "text/plain": [
       "#t"
      ]
     },
     "execution_count": 42,
     "metadata": {},
     "output_type": "execute_result"
    }
   ],
   "source": [
    "(define tolerance 0.00001)\n",
    "\n",
    "(define (fixed-point f first-guess)\n",
    "  (define (close-enough? v1 v2)\n",
    "    (< (abs (- v1 v2)) \n",
    "       tolerance))\n",
    "  (define (try guess)\n",
    "    (let ((next (f guess)))\n",
    "      (if (close-enough? guess next)\n",
    "          next\n",
    "          (try next))))\n",
    "  (try first-guess))\n",
    "\n",
    "(> tolerance\n",
    "   (abs (- (fixed-point (lambda (x) (+ 1 (/ 1 x))) 1.0) \n",
    "           (/ (+ 1 (sqrt 5)) 2))\n",
    "        ))"
   ]
  },
  {
   "cell_type": "markdown",
   "id": "everyday-substance",
   "metadata": {},
   "source": [
    "## 1.36"
   ]
  },
  {
   "cell_type": "code",
   "execution_count": 44,
   "id": "gross-partition",
   "metadata": {},
   "outputs": [
    {
     "name": "stdout",
     "output_type": "stream",
     "text": [
      "10.0\n",
      "2.9999999999999996\n",
      "6.2877098228681545\n",
      "3.7570797902002955\n",
      "5.218748919675316\n",
      "4.1807977460633134\n",
      "4.828902657081293\n",
      "4.386936895811029\n",
      "4.671722808746095\n",
      "4.481109436117821\n",
      "4.605567315585735\n",
      "4.522955348093164\n",
      "4.577201597629606\n",
      "4.541325786357399\n",
      "4.564940905198754\n",
      "4.549347961475409\n",
      "4.5596228442307565\n",
      "4.552843114094703\n",
      "4.55731263660315\n",
      "4.554364381825887\n",
      "4.556308401465587\n",
      "4.555026226620339\n",
      "4.55587174038325\n",
      "4.555314115211184\n",
      "4.555681847896976\n",
      "4.555439330395129\n",
      "4.555599264136406\n",
      "4.555493789937456\n",
      "4.555563347820309\n",
      "4.555517475527901\n",
      "4.555547727376273\n",
      "4.555527776815261\n",
      "4.555540933824255\n"
     ]
    },
    {
     "data": {
      "text/html": [
       "<code>999.991323238027</code>"
      ],
      "text/plain": [
       "999.991323238027"
      ]
     },
     "execution_count": 44,
     "metadata": {},
     "output_type": "execute_result"
    }
   ],
   "source": [
    "(define tolerance 0.00001)\n",
    "\n",
    "(define (fixed-point f first-guess)\n",
    "  (define (close-enough? v1 v2)\n",
    "    (< (abs (- v1 v2)) \n",
    "       tolerance))\n",
    "  (define (try guess)\n",
    "    (let ((next (f guess)))\n",
    "      (display guess)\n",
    "      (newline)\n",
    "      (if (close-enough? guess next)\n",
    "          next\n",
    "          (try next))))\n",
    "  (try first-guess))\n",
    "\n",
    "(define (f x) (expt x x))\n",
    "\n",
    "(f (fixed-point (lambda (x) (/ (log 1000) (log x))) 10.0))"
   ]
  },
  {
   "cell_type": "markdown",
   "id": "based-copyright",
   "metadata": {},
   "source": [
    "## 1.37"
   ]
  },
  {
   "cell_type": "code",
   "execution_count": 4,
   "id": "sticky-roller",
   "metadata": {},
   "outputs": [
    {
     "name": "stdout",
     "output_type": "stream",
     "text": [
      "0.625\n",
      "0.625\n",
      "0.6179775280898876\n",
      "0.6180555555555556\n",
      "0.6180339887498948"
     ]
    }
   ],
   "source": [
    "(require sicp)\n",
    "\n",
    "(define (cont-frac n d k)\n",
    "  (define (iter cur k)\n",
    "    (if (= k 0)\n",
    "        cur\n",
    "        (iter (/ (n k) (+ (d k) cur)) (dec k))))\n",
    "  (iter (/ (n k) (d k) ) (dec k)))\n",
    "\n",
    "(define (cont-frac-rec n d k)\n",
    "  (define (iter i)\n",
    "    (if (= i k)\n",
    "        (/ (n k) (d k))\n",
    "        (/ (n i) (+ (d i) (iter (inc i))))))\n",
    "  (iter 1))\n",
    "\n",
    "(display (cont-frac \n",
    "          (lambda (i) 1.0)\n",
    "          (lambda (i) 1.0)\n",
    "          5))\n",
    "(newline)\n",
    "(display (cont-frac-rec \n",
    "          (lambda (i) 1.0)\n",
    "          (lambda (i) 1.0)\n",
    "          5))\n",
    "(newline)\n",
    "(display (cont-frac \n",
    "          (lambda (i) 1.0)\n",
    "          (lambda (i) 1.0)\n",
    "          10))\n",
    "(newline)\n",
    "(display (cont-frac \n",
    "          (lambda (i) 1.0)\n",
    "          (lambda (i) 1.0)\n",
    "          11))\n",
    "(newline)\n",
    "(display (/ 2 (+ 1 (sqrt 5))))"
   ]
  },
  {
   "cell_type": "markdown",
   "id": "martial-elder",
   "metadata": {},
   "source": [
    "## 1.38"
   ]
  },
  {
   "cell_type": "code",
   "execution_count": 22,
   "id": "specified-montana",
   "metadata": {},
   "outputs": [
    {
     "name": "stdout",
     "output_type": "stream",
     "text": [
      "0.71875\n",
      "0.7182817182817183\n",
      "0.7182818284590452\n"
     ]
    }
   ],
   "source": [
    "(define (d x)\n",
    "  (if (= 2 (remainder x 3))\n",
    "      (/ (* (+ x 1) 2) 3)\n",
    "      1))\n",
    "\n",
    "(display (cont-frac \n",
    "          (lambda (i) 1.0)\n",
    "          d\n",
    "          5))\n",
    "(newline)\n",
    "(display (cont-frac \n",
    "          (lambda (i) 1.0)\n",
    "          d\n",
    "          10))\n",
    "(newline)\n",
    "(display (cont-frac \n",
    "          (lambda (i) 1.0)\n",
    "          d\n",
    "          20))\n",
    "(newline)"
   ]
  },
  {
   "cell_type": "markdown",
   "id": "acceptable-triumph",
   "metadata": {},
   "source": [
    "## 1.39"
   ]
  },
  {
   "cell_type": "code",
   "execution_count": 57,
   "id": "coupled-haven",
   "metadata": {},
   "outputs": [
    {
     "name": "stdout",
     "output_type": "stream",
     "text": [
      "-6.535897928395179e-07\n",
      "-6.535897930763815e-07\n",
      "0.9999996732051568\n",
      "0.9999996732051569"
     ]
    }
   ],
   "source": [
    "(define (tan-cf x k)\n",
    "  (define (iter cur k)\n",
    "    (if (= k 1)\n",
    "        (/ x (- 1 cur))\n",
    "        (iter (/ (* x x) (- (- (* k 2) 1) cur)) (dec k))))\n",
    "  (iter (/ (* x x) (- (- (* k 2) 1))) k))\n",
    "\n",
    "#|\n",
    "(define (tan-cf x k)\n",
    "  (cont-frac \n",
    "          (lambda (i) (if (= i 1) x (* x x -1)))\n",
    "          (lambda (i) (- (* i 2) 1))\n",
    "          k))\n",
    "|#\n",
    "\n",
    "(display (tan-cf 3.141592 100))\n",
    "(newline)\n",
    "(display (tan 3.141592))\n",
    "(newline)\n",
    "(display (tan-cf (/ 3.141592 4.0) 100))\n",
    "(newline)\n",
    "(display (tan (/ 3.141592 4.0)))"
   ]
  }
 ],
 "metadata": {
  "kernelspec": {
   "display_name": "Racket",
   "language": "racket",
   "name": "racket"
  },
  "language_info": {
   "codemirror_mode": "scheme",
   "file_extension": ".rkt",
   "mimetype": "text/x-racket",
   "name": "Racket",
   "pygments_lexer": "racket",
   "version": "7.9"
  }
 },
 "nbformat": 4,
 "nbformat_minor": 5
}
