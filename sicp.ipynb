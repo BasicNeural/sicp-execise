{
 "cells": [
  {
   "cell_type": "markdown",
   "id": "square-marks",
   "metadata": {},
   "source": [
    "## 1.11\n",
    "\n",
    "$$\n",
    "f(x) = \\begin{cases} x &, x < 3 \\\\ f(x-1) + 2f(x-2) + 3f(x-3) &, \\text{otherwise}\\end{cases}\n",
    "$$"
   ]
  },
  {
   "cell_type": "code",
   "execution_count": 63,
   "id": "fantastic-desert",
   "metadata": {},
   "outputs": [
    {
     "name": "stdout",
     "output_type": "stream",
     "text": [
      "1\n",
      "2\n",
      "4\n",
      "11\n",
      "25\n",
      "59\n",
      "142"
     ]
    }
   ],
   "source": [
    "(define (f x)\n",
    "  (define (f-iter a b c x)\n",
    "    (if (= x 1) \n",
    "        a\n",
    "        (f-iter (+ a (* 2 b) (* 3 c)) a b (- x 1))))\n",
    "  \n",
    "  (if (= x 1) 1 (f-iter 2 1 0 (- x 1))))\n",
    "\n",
    "\n",
    "(display (f 1))\n",
    "(newline)\n",
    "(display (f 2))\n",
    "(newline)\n",
    "(display (f 3))\n",
    "(newline)\n",
    "(display (f 4))\n",
    "(newline)\n",
    "(display (f 5))\n",
    "(newline)\n",
    "(display (f 6))\n",
    "(newline)\n",
    "(display (f 7))"
   ]
  },
  {
   "cell_type": "code",
   "execution_count": 20,
   "id": "progressive-dallas",
   "metadata": {},
   "outputs": [
    {
     "name": "stdout",
     "output_type": "stream",
     "text": [
      "1\n",
      "2\n",
      "4\n",
      "11\n",
      "25\n",
      "59\n",
      "142\n"
     ]
    }
   ],
   "source": [
    "(define (f n)\n",
    "  (if (< n 3)\n",
    "      n\n",
    "      (+ (f (- n 1))\n",
    "         (* 2 (f (- n 2)))\n",
    "         (* 3 (f (- n 3))))))\n",
    "\n",
    "(display (f 1))\n",
    "(newline)\n",
    "(display (f 2))\n",
    "(newline)\n",
    "(display (f 3))\n",
    "(newline)\n",
    "(display (f 4))\n",
    "(newline)\n",
    "(display (f 5))\n",
    "(newline)\n",
    "(display (f 6))\n",
    "(newline)\n",
    "(display (f 7))"
   ]
  },
  {
   "cell_type": "markdown",
   "id": "trying-chest",
   "metadata": {},
   "source": [
    "## 1.19\n",
    "\n",
    "$T_{p,q}^2 = T_{p',q'}$를 보이는 문제.\n",
    "\n",
    "$$\n",
    "\\begin{align}\n",
    "T_{p,q}^2(a) &= (p + q)((p + q)a + bq) + (bp + aq)q = a (p^2 + q^2 + 2pq + q^2) + b (2pq + q^2) \\\\\n",
    "T_{p', q'}(a) &= (p' + q')a + bq' \\\\\n",
    "T_{p,q}^2(b) &= (bp + aq)p + ((p + q)a + bq)q = b(p^2 + q^2) + a(2pq + q^2) \\\\\n",
    "T_{p',q'}(b) &= bp' + aq'\n",
    "\\end{align}\n",
    "$$\n",
    "따라서,\n",
    "$$\n",
    "\\begin{align}\n",
    "p' &= p^2 + q^2 \\\\\n",
    "q' &= 2pq + q^2\n",
    "\\end{align}\n",
    "$$"
   ]
  },
  {
   "cell_type": "code",
   "execution_count": 24,
   "id": "overhead-premises",
   "metadata": {},
   "outputs": [
    {
     "name": "stdout",
     "output_type": "stream",
     "text": [
      "1\n",
      "1\n",
      "2\n",
      "3\n",
      "5\n",
      "8\n",
      "13\n"
     ]
    }
   ],
   "source": [
    "\n",
    "(define (fib n)\n",
    "    (fib-iter 1 0 0 1 n))\n",
    "\n",
    "(define (fib-iter a b p q c)\n",
    "    (cond ((= c 0) b)\n",
    "    ((even? c)\n",
    "     (fib-iter a\n",
    "               b\n",
    "               (+ (* p p) (* q q))\n",
    "               (+ (* 2 p q) (* q q))\n",
    "               (/ c 2)))\n",
    "    (else (fib-iter (+ (* b q) (* a q) (* a p))\n",
    "                    (+ (* b p) (* a q))\n",
    "                    p\n",
    "                    q\n",
    "                    (- c 1)))))\n",
    "\n",
    "\n",
    "(display (fib 1))\n",
    "(newline)\n",
    "(display (fib 2))\n",
    "(newline)\n",
    "(display (fib 3))\n",
    "(newline)\n",
    "(display (fib 4))\n",
    "(newline)\n",
    "(display (fib 5))\n",
    "(newline)\n",
    "(display (fib 6))\n",
    "(newline)\n",
    "(display (fib 7))"
   ]
  },
  {
   "cell_type": "markdown",
   "id": "fuzzy-attack",
   "metadata": {},
   "source": [
    "## 1.20"
   ]
  },
  {
   "cell_type": "markdown",
   "id": "rational-playback",
   "metadata": {},
   "source": [
    "## 1.21"
   ]
  },
  {
   "cell_type": "code",
   "execution_count": null,
   "id": "furnished-compact",
   "metadata": {},
   "outputs": [],
   "source": [
    "(define (gcd a b)\n",
    "    (if (= b 0)\n",
    "        a\n",
    "        (gcd b (remainder a b))))\n",
    "        \n",
    "(gcd 206 40)\n",
    "(gcd 40 6)\n",
    "(gcd 6 4)\n",
    "(gcd 4 2)\n",
    "(gcd 2 0)\n",
    "2 ;normal-order\n",
    "\n",
    "(gcd 206 40)\n",
    "(if (= 40 0) 206 (gcd 40 6))\n",
    "(if (= 40 0) 206 \n",
    "  (if (= 6 0) 40 (gcd 6 4)))\n",
    "(if (= 40 0) 206 \n",
    "  (if (= 6 0) 40 \n",
    "    (if (= 4 0) 6 (gcd 4 2))))\n",
    "(if (= 40 0) 206 \n",
    "  (if (= 6 0) 40 \n",
    "    (if (= 4 0) 6 \n",
    "      (if (= 2 0) 4 (gcd 2 0)))))\n",
    "(if (= 40 0) 206 \n",
    "  (if (= 6 0) 40 \n",
    "    (if (= 4 0) 6 \n",
    "      (if (= 2 0) 4 \n",
    "       (if (= 0 0) 2 (gcd 0 (remainder 2 0))))))); error!"
   ]
  },
  {
   "cell_type": "code",
   "execution_count": 18,
   "id": "furnished-exposure",
   "metadata": {},
   "outputs": [
    {
     "name": "stdout",
     "output_type": "stream",
     "text": [
      "199\n",
      "1999\n",
      "7"
     ]
    }
   ],
   "source": [
    "(define (smallest-divisor n)\n",
    "  (find-divisor n 2))\n",
    "\n",
    "(define (find-divisor n test-divisor)\n",
    "  (cond ((> (square test-divisor) n) \n",
    "         n)\n",
    "        ((divides? test-divisor n) \n",
    "         test-divisor)\n",
    "        (else (find-divisor \n",
    "               n \n",
    "               (+ test-divisor 1)))))\n",
    "\n",
    "(define (divides? a b)\n",
    "  (= (remainder b a) 0))\n",
    "\n",
    "(define (square x) (* x x))\n",
    "\n",
    "(display (smallest-divisor 199))\n",
    "(newline)\n",
    "(display (smallest-divisor 1999))\n",
    "(newline)\n",
    "(display (smallest-divisor 19999))"
   ]
  },
  {
   "cell_type": "markdown",
   "id": "planned-blair",
   "metadata": {},
   "source": [
    "## 1.22"
   ]
  },
  {
   "cell_type": "code",
   "execution_count": 19,
   "id": "twenty-tradition",
   "metadata": {},
   "outputs": [
    {
     "name": "stdout",
     "output_type": "stream",
     "text": [
      "10000000019 *** 3\n",
      "10000000033 *** 3\n",
      "10000000061 *** 3\n",
      "\n",
      "100000000003 *** 12\n",
      "100000000019 *** 11\n",
      "100000000057 *** 8\n",
      "\n",
      "1000000000039 *** 28\n",
      "1000000000061 *** 31\n",
      "1000000000063 *** 28\n",
      "\n",
      "10000000000037 *** 86\n",
      "10000000000051 *** 82\n",
      "10000000000099 *** 88\n",
      "\n",
      "100000000000031 *** 262\n",
      "100000000000067 *** 252\n",
      "100000000000097 *** 261\n",
      "\n",
      "1000000000000037 *** 796\n",
      "1000000000000091 *** 777\n",
      "1000000000000159 *** 768\n"
     ]
    },
    {
     "data": {
      "text/html": [
       "<code>'()</code>"
      ],
      "text/plain": [
       "'()"
      ]
     },
     "execution_count": 19,
     "metadata": {},
     "output_type": "execute_result"
    }
   ],
   "source": [
    "(define (runtime) (current-milliseconds))\n",
    "\n",
    "(define (prime? n) (= (smallest-divisor n) n))\n",
    "\n",
    "(define (timed-prime-test n)\n",
    "  (start-prime-test n (runtime)))\n",
    "(define (start-prime-test n start-time)\n",
    "  (if (prime? n)\n",
    "      (report-prime n (- (runtime) \n",
    "                       start-time))\n",
    "      #f))\n",
    "(define (report-prime n elapsed-time)\n",
    "  (display n)\n",
    "  (display \" *** \")\n",
    "  (display elapsed-time)\n",
    "  (newline))\n",
    "\n",
    "(define (search-primes start count)\n",
    "  (if (= count 0)\n",
    "      nil\n",
    "      (if (even? start)\n",
    "          (search-primes (+ start 1) count)\n",
    "          (if (timed-prime-test start)\n",
    "              (search-primes (+ start 2) (- count 1))\n",
    "              (search-primes (+ start 2) count))))\n",
    "  )\n",
    "\n",
    "(search-primes 10000000000 3)\n",
    "(newline)\n",
    "(search-primes 100000000000 3)\n",
    "(newline)\n",
    "(search-primes 1000000000000 3)\n",
    "(newline)\n",
    "(search-primes 10000000000000 3)\n",
    "(newline)\n",
    "(search-primes 100000000000000 3)\n",
    "(newline)\n",
    "(search-primes 1000000000000000 3)"
   ]
  },
  {
   "cell_type": "markdown",
   "id": "vietnamese-liability",
   "metadata": {},
   "source": [
    "10배 증가할때 마다 검색 시간이 약$\\sqrt{10}$배 늘어남으로 타당."
   ]
  },
  {
   "cell_type": "markdown",
   "id": "impaired-filter",
   "metadata": {},
   "source": [
    "## 1.23"
   ]
  },
  {
   "cell_type": "code",
   "execution_count": 21,
   "id": "dense-speaking",
   "metadata": {},
   "outputs": [
    {
     "name": "stdout",
     "output_type": "stream",
     "text": [
      "10000000019 *** 2\n",
      "10000000033 *** 2\n",
      "10000000061 *** 2\n",
      "\n",
      "100000000003 *** 6\n",
      "100000000019 *** 5\n",
      "100000000057 *** 7\n",
      "\n",
      "1000000000039 *** 19\n",
      "1000000000061 *** 17\n",
      "1000000000063 *** 17\n",
      "\n",
      "10000000000037 *** 53\n",
      "10000000000051 *** 49\n",
      "10000000000099 *** 51\n",
      "\n",
      "100000000000031 *** 151\n",
      "100000000000067 *** 154\n",
      "100000000000097 *** 152\n",
      "\n",
      "1000000000000037 *** 453\n",
      "1000000000000091 *** 457\n",
      "1000000000000159 *** 462\n"
     ]
    },
    {
     "data": {
      "text/html": [
       "<code>'()</code>"
      ],
      "text/plain": [
       "'()"
      ]
     },
     "execution_count": 21,
     "metadata": {},
     "output_type": "execute_result"
    }
   ],
   "source": [
    "(define (smallest-divisor n)\n",
    "  (find-divisor n 2))\n",
    "\n",
    "(define (find-divisor n test-divisor)\n",
    "  (cond ((> (square test-divisor) n) \n",
    "         n)\n",
    "        ((divides? test-divisor n) \n",
    "         test-divisor)\n",
    "        (else (find-divisor \n",
    "               n \n",
    "               (next test-divisor)))))\n",
    "\n",
    "(define (divides? a b)\n",
    "  (= (remainder b a) 0))\n",
    "\n",
    "(define (square x) (* x x))\n",
    "\n",
    "(define (runtime) (current-milliseconds))\n",
    "\n",
    "(define (prime? n) (= (smallest-divisor n) n))\n",
    "\n",
    "(define (timed-prime-test n)\n",
    "  (start-prime-test n (runtime)))\n",
    "(define (start-prime-test n start-time)\n",
    "  (if (prime? n)\n",
    "      (report-prime n (- (runtime) \n",
    "                       start-time))\n",
    "      #f))\n",
    "(define (report-prime n elapsed-time)\n",
    "  (display n)\n",
    "  (display \" *** \")\n",
    "  (display elapsed-time)\n",
    "  (newline))\n",
    "\n",
    "(define (search-primes start count)\n",
    "  (if (= count 0)\n",
    "      nil\n",
    "      (if (even? start)\n",
    "          (search-primes (+ start 1) count)\n",
    "          (if (timed-prime-test start)\n",
    "              (search-primes (+ start 2) (- count 1))\n",
    "              (search-primes (+ start 2) count))))\n",
    "  )\n",
    "\n",
    "(define (next test-divisor)\n",
    "  (if (= test-divisor 2)\n",
    "      3\n",
    "      (+ test-divisor 2)))\n",
    "\n",
    "(search-primes 10000000000 3)\n",
    "(newline)\n",
    "(search-primes 100000000000 3)\n",
    "(newline)\n",
    "(search-primes 1000000000000 3)\n",
    "(newline)\n",
    "(search-primes 10000000000000 3)\n",
    "(newline)\n",
    "(search-primes 100000000000000 3)\n",
    "(newline)\n",
    "(search-primes 1000000000000000 3)"
   ]
  },
  {
   "cell_type": "markdown",
   "id": "dental-palmer",
   "metadata": {},
   "source": [
    "대략 1.7배, `test-divisor`가 2인지 판별하는 프로시저가 존재하기 때문에 계산이 절반이 되지 않는다."
   ]
  },
  {
   "cell_type": "markdown",
   "id": "difficult-timer",
   "metadata": {},
   "source": [
    "## 1.24"
   ]
  },
  {
   "cell_type": "code",
   "execution_count": 46,
   "id": "stock-enemy",
   "metadata": {},
   "outputs": [
    {
     "name": "stdout",
     "output_type": "stream",
     "text": [
      "\n",
      "10000000019 *** 110\n",
      "100000000003 *** 147\n",
      "1000000000039 *** 157\n",
      "10000000000037 *** 157\n",
      "100000000000031 *** 182\n",
      "1000000000000037 *** 198"
     ]
    }
   ],
   "source": [
    "(require (planet williams/science/random-source))\n",
    "\n",
    "(define (runtime) (current-milliseconds))\n",
    "\n",
    "(define (expmod base exp m)\n",
    "  (cond ((= exp 0) 1)\n",
    "        ((even? exp)\n",
    "         (remainder \n",
    "          (square (expmod base (/ exp 2) m))\n",
    "          m))\n",
    "        (else\n",
    "         (remainder \n",
    "          (* base (expmod base (- exp 1) m))\n",
    "          m))))\n",
    "\n",
    "(define (fermat-test n)\n",
    "  (define (try-it a)\n",
    "    (= (expmod a n n) a))\n",
    "  (try-it (+ 1 (random-integer (- n 1)))))\n",
    "\n",
    "(define (fast-prime? n times)\n",
    "  (cond ((= times 0) true)\n",
    "        ((fermat-test n) \n",
    "         (fast-prime? n (- times 1)))\n",
    "        (else false)))\n",
    "\n",
    " (define (timed-prime-test n) \n",
    "   (start-prime-test n (runtime))) \n",
    "  \n",
    " (define (start-prime-test n start-time) \n",
    "   (if (fast-prime? n 10000) \n",
    "       (report-prime n (- (runtime) start-time)))) \n",
    "  \n",
    " (define (report-prime n elapsed-time) \n",
    "   (newline) \n",
    "   (display n) \n",
    "   (display \" *** \") \n",
    "   (display elapsed-time)) \n",
    "\n",
    "(timed-prime-test 10000000019)\n",
    "(timed-prime-test 100000000003)\n",
    "(timed-prime-test 1000000000039)\n",
    "(timed-prime-test 10000000000037)\n",
    "(timed-prime-test 100000000000031)\n",
    "(timed-prime-test 1000000000000037)"
   ]
  },
  {
   "cell_type": "markdown",
   "id": "circular-poland",
   "metadata": {},
   "source": [
    "## 1.25"
   ]
  },
  {
   "cell_type": "code",
   "execution_count": 40,
   "id": "intense-distinction",
   "metadata": {},
   "outputs": [
    {
     "data": {
      "text/html": [
       "<code>3686830912</code>"
      ],
      "text/plain": [
       "3686830912"
      ]
     },
     "execution_count": 40,
     "metadata": {},
     "output_type": "execute_result"
    }
   ],
   "source": [
    "(define (expmod base exp m)\n",
    "  (remainder (fast-expt base exp) m))\n",
    "\n",
    "(define (fast-expt b n)\n",
    "  (cond ((= n 0) \n",
    "         1)\n",
    "        ((even? n) \n",
    "         (square (fast-expt b (/ n 2))))\n",
    "        (else \n",
    "         (* b (fast-expt b (- n 1))))))\n",
    "\n",
    "(define (expmod base exp m)\n",
    "  (cond ((= exp 0) 1)\n",
    "        ((even? exp)\n",
    "         (remainder \n",
    "          (square (expmod base (/ exp 2) m))\n",
    "          m))\n",
    "        (else\n",
    "         (remainder \n",
    "          (* base (expmod base (- exp 1) m))\n",
    "          m))))"
   ]
  },
  {
   "cell_type": "markdown",
   "id": "acknowledged-radiation",
   "metadata": {},
   "source": [
    "$(a \\cdot b)\\mod c = a\\mod c \\cdot b\\mod c$이기 때문에 동일하다"
   ]
  },
  {
   "cell_type": "markdown",
   "id": "qualified-method",
   "metadata": {},
   "source": [
    "## 1.26\n",
    "\n",
    "`(* (expmod base (/ exp 2) m) (expmod base (/ exp 2) m))`은 재귀호출을 두번 반복하기 때문에 $\\Theta (2^n)$이고, 이를 알고리즘 시간복잡도에 대입하면 $\\Theta (\\log 2^n) = \\Theta(n)$이 된다."
   ]
  },
  {
   "cell_type": "markdown",
   "id": "arabic-yahoo",
   "metadata": {},
   "source": [
    "## 1.27"
   ]
  },
  {
   "cell_type": "code",
   "execution_count": 54,
   "id": "several-shell",
   "metadata": {},
   "outputs": [
    {
     "name": "stdout",
     "output_type": "stream",
     "text": [
      "#t\n",
      "#t\n",
      "#t\n",
      "#f\n",
      "#f"
     ]
    }
   ],
   "source": [
    "(define (expmod base exp m)\n",
    "  (cond ((= exp 0) 1)\n",
    "        ((even? exp)\n",
    "         (remainder \n",
    "          (square (expmod base (/ exp 2) m))\n",
    "          m))\n",
    "        (else\n",
    "         (remainder \n",
    "          (* base (expmod base (- exp 1) m))\n",
    "          m))))\n",
    "\n",
    "(define (carmichael-test-iter n a)\n",
    "  (if (= a 0)\n",
    "      true\n",
    "      (if (= (expmod a n n) a)\n",
    "          (carmichael-test-iter n (- a 1))\n",
    "          false)))\n",
    "\n",
    "(define (carmichael-test n)\n",
    "  (carmichael-test-iter n (- n 1)))\n",
    "\n",
    "; carmichael numbers\n",
    "(display (carmichael-test 561))\n",
    "(newline)\n",
    "(display (carmichael-test 1105))\n",
    "(newline)\n",
    "(display (carmichael-test 1729))\n",
    "(newline)\n",
    "; non-carmichael numbers\n",
    "(display (carmichael-test 10))\n",
    "(newline)\n",
    "(display (carmichael-test 121))"
   ]
  },
  {
   "cell_type": "markdown",
   "id": "sitting-innocent",
   "metadata": {},
   "source": [
    "## 1.28"
   ]
  },
  {
   "cell_type": "code",
   "execution_count": 1,
   "id": "thrown-webcam",
   "metadata": {},
   "outputs": [
    {
     "name": "stderr",
     "output_type": "stream",
     "text": [
      "random-integer: undefined;\n",
      " cannot reference an identifier before its definition\n",
      "  in module: top-level\n",
      "  context...:\n",
      "   eval:18:2: fast-prime-iter\n",
      "   /usr/local/Cellar/minimal-racket/7.9_1/share/racket/pkgs/sandbox-lib/racket/sandbox.rkt:697:9: loop\n",
      "   /usr/local/Cellar/minimal-racket/7.9_1/share/racket/pkgs/sandbox-lib/racket/sandbox.rkt:510:0: call-with-custodian-shutdown\n",
      "   /usr/local/Cellar/minimal-racket/7.9_1/share/racket/collects/racket/private/more-scheme.rkt:148:2: call-with-break-parameterization\n",
      "   /usr/local/Cellar/minimal-racket/7.9_1/share/racket/pkgs/sandbox-lib/racket/sandbox.rkt:882:7\n",
      "   /usr/local/Cellar/minimal-racket/7.9_1/share/racket/pkgs/sandbox-lib/racket/sandbox.rkt:878:5: loop\n"
     ]
    }
   ],
   "source": [
    "(define (square x) (* x x)) \n",
    "\n",
    "(define (expmod base exp m)\n",
    "  (cond ((= exp 1) 1)\n",
    "        ((even? exp)\n",
    "         (remainder \n",
    "          (square (expmod base (/ exp 2) m))\n",
    "          m))\n",
    "        (else\n",
    "         (remainder \n",
    "          (* base (expmod base (- exp 1) m))\n",
    "          m))))\n",
    "\n",
    "(define (miller-test n)\n",
    "  (define (try-it a)\n",
    "    (check (expmod a (- n 1) n) a))\n",
    "  (try-it (+ 1 (random-integer (- n 1)))))\n",
    "\n",
    "(define (fast-prime? n times)\n",
    "  (cond ((= times 0) true)\n",
    "        ((miller-test n) \n",
    "         (fast-prime? n (- times 1)))\n",
    "        (else false)))\n",
    "\n",
    "(define (prime? n)\n",
    "  (fast-prime? n 100))\n",
    "\n",
    "(fast-prime? 10000000019)\n",
    "(fast-prime? 100000000003)\n",
    "(fast-prime? 1000000000039)\n",
    "(fast-prime? 10000000000037)\n",
    "(fast-prime? 100000000000031)\n",
    "(fast-prime? 1000000000000037)\n",
    "\n",
    "(fast-prime? 561)\n",
    "(fast-prime? 1105)"
   ]
  },
  {
   "cell_type": "code",
   "execution_count": null,
   "id": "arabic-belief",
   "metadata": {},
   "outputs": [],
   "source": []
  }
 ],
 "metadata": {
  "kernelspec": {
   "display_name": "Racket",
   "language": "racket",
   "name": "racket"
  },
  "language_info": {
   "codemirror_mode": "scheme",
   "file_extension": ".rkt",
   "mimetype": "text/x-racket",
   "name": "Racket",
   "pygments_lexer": "racket",
   "version": "7.9"
  }
 },
 "nbformat": 4,
 "nbformat_minor": 5
}
